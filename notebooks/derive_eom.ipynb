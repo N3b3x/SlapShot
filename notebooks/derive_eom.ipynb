{
 "cells": [
  {
   "cell_type": "code",
   "execution_count": 1,
   "id": "3c0f198b",
   "metadata": {},
   "outputs": [],
   "source": [
    "import sympy as sp\n",
    "import numpy as np\n",
    "from sympy import latex\n",
    "\n",
    "import sys\n",
    "import os\n",
    "\n",
    "sys.path.append(os.path.abspath(os.path.join(os.getcwd(), '..')))\n",
    "from modules.ur3_symbols import *\n",
    "from modules.kinematics import get_forward_kinematics, get_transform, build_symbolic_com_jacobians\n",
    "from modules.dynamics import (compute_inertia_matrices, compute_coriolis_matrix,\n",
    "                              compute_com_wrt_base, compute_potential_energy, compute_gravity_torque_vector)"
   ]
  },
  {
   "cell_type": "code",
   "execution_count": 2,
   "id": "400a39f8",
   "metadata": {},
   "outputs": [],
   "source": [
    "# this is the official dh table from universal robotics, not the one derived by Coppelia's frame assignments\n",
    "\n",
    "ur3_dh_table = [\n",
    "    {'theta':q_syms[0], 'a':0, 'd':d_syms[0], 'alpha':sp.pi/2},\n",
    "    {'theta':q_syms[1], 'a':a_syms[1], 'd':0, 'alpha':0},\n",
    "    {'theta':q_syms[2], 'a':a_syms[2], 'd':0, 'alpha':0},\n",
    "    {'theta':q_syms[3], 'a':0, 'd':d_syms[3], 'alpha':sp.pi/2},\n",
    "    {'theta':q_syms[4], 'a':0, 'd':d_syms[4], 'alpha':-sp.pi/2},\n",
    "    {'theta':q_syms[5], 'a':0, 'd':d_syms[5], 'alpha':0},\n",
    "]\n",
    "\n",
    "ur3_subs = {\n",
    "    d_syms[0]: 0.1519,\n",
    "    a_syms[1]: -0.24365,\n",
    "    a_syms[2]: -0.21325,\n",
    "    d_syms[3]: 0.11235,\n",
    "    d_syms[4]: 0.08535,\n",
    "    d_syms[5]: 0.0819\n",
    "}\n",
    "\n",
    "ur3_com_subs = {\n",
    "r_c1x: 0,\n",
    "r_c1y: -0.02,\n",
    "r_c1z: 0,\n",
    "r_c2x: 0.13,\n",
    "r_c2y: 0,\n",
    "r_c2z: 0.1157,\n",
    "r_c3x: 0.05,\n",
    "r_c3y: 0,\n",
    "r_c3z: 0.0238,\n",
    "r_c4x: 0,\n",
    "r_c4y: 0,\n",
    "r_c4z: 0.01,\n",
    "r_c5x: 0,\n",
    "r_c5y: 0,\n",
    "r_c5z: 0.01,\n",
    "r_c6x: 0,\n",
    "r_c6y: 0,\n",
    "r_c6z: -0.02,\n",
    "}\n",
    "\n",
    "n = len(ur3_dh_table)"
   ]
  },
  {
   "cell_type": "code",
   "execution_count": 3,
   "id": "a79acd1b",
   "metadata": {},
   "outputs": [],
   "source": [
    "ur3_transforms = get_forward_kinematics(ur3_dh_table)\n",
    "ur3_transforms = [sp.trigsimp(transform) for transform in ur3_transforms]"
   ]
  },
  {
   "cell_type": "code",
   "execution_count": 4,
   "id": "c68b744c",
   "metadata": {},
   "outputs": [],
   "source": [
    "# Extract the necessary components for the jacobian\n",
    "origins = [ H[:3, -1] for H in ur3_transforms ]\n",
    "z_vectors = [ H[:3, 2] for H in ur3_transforms[1:]] # the first transform is not needed since it's just the identity\n",
    "center_of_masses = [r_c1, r_c2, r_c3, r_c4, r_c5, r_c6]"
   ]
  },
  {
   "cell_type": "code",
   "execution_count": 5,
   "id": "11f79f40",
   "metadata": {},
   "outputs": [
    {
     "data": {
      "text/latex": [
       "$\\displaystyle \\left[\\begin{matrix}- r_{c_1,z} \\cos{\\left(q_{1} \\right)} & 0 & 0 & 0 & 0 & 0\\\\- r_{c_1,z} \\sin{\\left(q_{1} \\right)} & 0 & 0 & 0 & 0 & 0\\\\r_{c_1,x} \\cos{\\left(q_{1} \\right)} + r_{c_1,y} \\sin{\\left(q_{1} \\right)} & 0 & 0 & 0 & 0 & 0\\end{matrix}\\right]$"
      ],
      "text/plain": [
       "Matrix([\n",
       "[                   -r_{c_1,z}*cos(q1), 0, 0, 0, 0, 0],\n",
       "[                   -r_{c_1,z}*sin(q1), 0, 0, 0, 0, 0],\n",
       "[r_{c_1,x}*cos(q1) + r_{c_1,y}*sin(q1), 0, 0, 0, 0, 0]])"
      ]
     },
     "execution_count": 5,
     "metadata": {},
     "output_type": "execute_result"
    }
   ],
   "source": [
    "jacobians = build_symbolic_com_jacobians(origins, z_vectors, center_of_masses)\n",
    "jacobians[0]"
   ]
  },
  {
   "cell_type": "code",
   "execution_count": 6,
   "id": "c00f6dc5",
   "metadata": {},
   "outputs": [],
   "source": [
    "inertia_matrices = compute_inertia_matrices(jacobians[4:], m_syms[4:])"
   ]
  },
  {
   "cell_type": "code",
   "execution_count": 7,
   "id": "3a927d73",
   "metadata": {},
   "outputs": [],
   "source": [
    "# sum all of the inertia matrices for each link\n",
    "full_inertia_mat = sum(inertia_matrices, sp.zeros(*inertia_matrices[0].shape))"
   ]
  },
  {
   "cell_type": "code",
   "execution_count": 8,
   "id": "76f7acdc",
   "metadata": {},
   "outputs": [],
   "source": [
    "# do not try to print the full matrix\n",
    "coriolis = compute_coriolis_matrix(full_inertia_mat, q_syms, dq_syms)\n"
   ]
  },
  {
   "cell_type": "code",
   "execution_count": 9,
   "id": "9c0a4a93",
   "metadata": {},
   "outputs": [
    {
     "data": {
      "text/latex": [
       "$\\displaystyle \\left[\\begin{matrix}0\\\\- g m_{2} \\left(a_{2} \\cos{\\left(q_{2} \\right)} + r_{c_2,x} \\cos{\\left(q_{2} \\right)} - r_{c_2,y} \\sin{\\left(q_{2} \\right)}\\right) - g m_{3} \\left(a_{2} \\cos{\\left(q_{2} \\right)} + a_{3} \\cos{\\left(q_{2} + q_{3} \\right)} + r_{c_3,x} \\cos{\\left(q_{2} + q_{3} \\right)} - r_{c_3,y} \\sin{\\left(q_{2} + q_{3} \\right)}\\right) - g m_{4} \\left(a_{2} \\cos{\\left(q_{2} \\right)} + a_{3} \\cos{\\left(q_{2} + q_{3} \\right)} + r_{c_4,x} \\cos{\\left(q_{2} + q_{3} + q_{4} \\right)} + r_{c_4,z} \\sin{\\left(q_{2} + q_{3} + q_{4} \\right)}\\right) - g m_{5} \\left(a_{2} \\cos{\\left(q_{2} \\right)} + a_{3} \\cos{\\left(q_{2} + q_{3} \\right)} + d_{5} \\sin{\\left(q_{2} + q_{3} + q_{4} \\right)} + r_{c_5,x} \\cos{\\left(q_{5} \\right)} \\cos{\\left(q_{2} + q_{3} + q_{4} \\right)} - r_{c_5,y} \\sin{\\left(q_{2} + q_{3} + q_{4} \\right)} - r_{c_5,z} \\sin{\\left(q_{5} \\right)} \\cos{\\left(q_{2} + q_{3} + q_{4} \\right)}\\right) - g m_{6} \\left(a_{2} \\cos{\\left(q_{2} \\right)} + a_{3} \\cos{\\left(q_{2} + q_{3} \\right)} + d_{5} \\sin{\\left(q_{2} + q_{3} + q_{4} \\right)} - d_{6} \\sin{\\left(q_{5} \\right)} \\cos{\\left(q_{2} + q_{3} + q_{4} \\right)} + r_{c_6,x} \\left(- \\sin{\\left(q_{6} \\right)} \\sin{\\left(q_{2} + q_{3} + q_{4} \\right)} + \\cos{\\left(q_{5} \\right)} \\cos{\\left(q_{6} \\right)} \\cos{\\left(q_{2} + q_{3} + q_{4} \\right)}\\right) + r_{c_6,y} \\left(- \\sin{\\left(q_{6} \\right)} \\cos{\\left(q_{5} \\right)} \\cos{\\left(q_{2} + q_{3} + q_{4} \\right)} - \\sin{\\left(q_{2} + q_{3} + q_{4} \\right)} \\cos{\\left(q_{6} \\right)}\\right) - r_{c_6,z} \\sin{\\left(q_{5} \\right)} \\cos{\\left(q_{2} + q_{3} + q_{4} \\right)}\\right)\\\\- g m_{3} \\left(a_{3} \\cos{\\left(q_{2} + q_{3} \\right)} + r_{c_3,x} \\cos{\\left(q_{2} + q_{3} \\right)} - r_{c_3,y} \\sin{\\left(q_{2} + q_{3} \\right)}\\right) - g m_{4} \\left(a_{3} \\cos{\\left(q_{2} + q_{3} \\right)} + r_{c_4,x} \\cos{\\left(q_{2} + q_{3} + q_{4} \\right)} + r_{c_4,z} \\sin{\\left(q_{2} + q_{3} + q_{4} \\right)}\\right) - g m_{5} \\left(a_{3} \\cos{\\left(q_{2} + q_{3} \\right)} + d_{5} \\sin{\\left(q_{2} + q_{3} + q_{4} \\right)} + r_{c_5,x} \\cos{\\left(q_{5} \\right)} \\cos{\\left(q_{2} + q_{3} + q_{4} \\right)} - r_{c_5,y} \\sin{\\left(q_{2} + q_{3} + q_{4} \\right)} - r_{c_5,z} \\sin{\\left(q_{5} \\right)} \\cos{\\left(q_{2} + q_{3} + q_{4} \\right)}\\right) - g m_{6} \\left(a_{3} \\cos{\\left(q_{2} + q_{3} \\right)} + d_{5} \\sin{\\left(q_{2} + q_{3} + q_{4} \\right)} - d_{6} \\sin{\\left(q_{5} \\right)} \\cos{\\left(q_{2} + q_{3} + q_{4} \\right)} + r_{c_6,x} \\left(- \\sin{\\left(q_{6} \\right)} \\sin{\\left(q_{2} + q_{3} + q_{4} \\right)} + \\cos{\\left(q_{5} \\right)} \\cos{\\left(q_{6} \\right)} \\cos{\\left(q_{2} + q_{3} + q_{4} \\right)}\\right) + r_{c_6,y} \\left(- \\sin{\\left(q_{6} \\right)} \\cos{\\left(q_{5} \\right)} \\cos{\\left(q_{2} + q_{3} + q_{4} \\right)} - \\sin{\\left(q_{2} + q_{3} + q_{4} \\right)} \\cos{\\left(q_{6} \\right)}\\right) - r_{c_6,z} \\sin{\\left(q_{5} \\right)} \\cos{\\left(q_{2} + q_{3} + q_{4} \\right)}\\right)\\\\- g m_{4} \\left(r_{c_4,x} \\cos{\\left(q_{2} + q_{3} + q_{4} \\right)} + r_{c_4,z} \\sin{\\left(q_{2} + q_{3} + q_{4} \\right)}\\right) - g m_{5} \\left(d_{5} \\sin{\\left(q_{2} + q_{3} + q_{4} \\right)} + r_{c_5,x} \\cos{\\left(q_{5} \\right)} \\cos{\\left(q_{2} + q_{3} + q_{4} \\right)} - r_{c_5,y} \\sin{\\left(q_{2} + q_{3} + q_{4} \\right)} - r_{c_5,z} \\sin{\\left(q_{5} \\right)} \\cos{\\left(q_{2} + q_{3} + q_{4} \\right)}\\right) - g m_{6} \\left(d_{5} \\sin{\\left(q_{2} + q_{3} + q_{4} \\right)} - d_{6} \\sin{\\left(q_{5} \\right)} \\cos{\\left(q_{2} + q_{3} + q_{4} \\right)} + r_{c_6,x} \\left(- \\sin{\\left(q_{6} \\right)} \\sin{\\left(q_{2} + q_{3} + q_{4} \\right)} + \\cos{\\left(q_{5} \\right)} \\cos{\\left(q_{6} \\right)} \\cos{\\left(q_{2} + q_{3} + q_{4} \\right)}\\right) + r_{c_6,y} \\left(- \\sin{\\left(q_{6} \\right)} \\cos{\\left(q_{5} \\right)} \\cos{\\left(q_{2} + q_{3} + q_{4} \\right)} - \\sin{\\left(q_{2} + q_{3} + q_{4} \\right)} \\cos{\\left(q_{6} \\right)}\\right) - r_{c_6,z} \\sin{\\left(q_{5} \\right)} \\cos{\\left(q_{2} + q_{3} + q_{4} \\right)}\\right)\\\\- g m_{5} \\left(- r_{c_5,x} \\sin{\\left(q_{5} \\right)} \\sin{\\left(q_{2} + q_{3} + q_{4} \\right)} - r_{c_5,z} \\sin{\\left(q_{2} + q_{3} + q_{4} \\right)} \\cos{\\left(q_{5} \\right)}\\right) - g m_{6} \\left(- d_{6} \\sin{\\left(q_{2} + q_{3} + q_{4} \\right)} \\cos{\\left(q_{5} \\right)} - r_{c_6,x} \\sin{\\left(q_{5} \\right)} \\sin{\\left(q_{2} + q_{3} + q_{4} \\right)} \\cos{\\left(q_{6} \\right)} + r_{c_6,y} \\sin{\\left(q_{5} \\right)} \\sin{\\left(q_{6} \\right)} \\sin{\\left(q_{2} + q_{3} + q_{4} \\right)} - r_{c_6,z} \\sin{\\left(q_{2} + q_{3} + q_{4} \\right)} \\cos{\\left(q_{5} \\right)}\\right)\\\\- g m_{6} \\left(r_{c_6,x} \\left(- \\sin{\\left(q_{6} \\right)} \\sin{\\left(q_{2} + q_{3} + q_{4} \\right)} \\cos{\\left(q_{5} \\right)} + \\cos{\\left(q_{6} \\right)} \\cos{\\left(q_{2} + q_{3} + q_{4} \\right)}\\right) + r_{c_6,y} \\left(- \\sin{\\left(q_{6} \\right)} \\cos{\\left(q_{2} + q_{3} + q_{4} \\right)} - \\sin{\\left(q_{2} + q_{3} + q_{4} \\right)} \\cos{\\left(q_{5} \\right)} \\cos{\\left(q_{6} \\right)}\\right)\\right)\\end{matrix}\\right]$"
      ],
      "text/plain": [
       "Matrix([\n",
       "[                                                                                                                                                                                                                                                                                                                                                                                                                                                                                                                                                                                                                                                                                                                      0],\n",
       "[-g*m2*(a2*cos(q2) + r_{c_2,x}*cos(q2) - r_{c_2,y}*sin(q2)) - g*m3*(a2*cos(q2) + a3*cos(q2 + q3) + r_{c_3,x}*cos(q2 + q3) - r_{c_3,y}*sin(q2 + q3)) - g*m4*(a2*cos(q2) + a3*cos(q2 + q3) + r_{c_4,x}*cos(q2 + q3 + q4) + r_{c_4,z}*sin(q2 + q3 + q4)) - g*m5*(a2*cos(q2) + a3*cos(q2 + q3) + d5*sin(q2 + q3 + q4) + r_{c_5,x}*cos(q5)*cos(q2 + q3 + q4) - r_{c_5,y}*sin(q2 + q3 + q4) - r_{c_5,z}*sin(q5)*cos(q2 + q3 + q4)) - g*m6*(a2*cos(q2) + a3*cos(q2 + q3) + d5*sin(q2 + q3 + q4) - d6*sin(q5)*cos(q2 + q3 + q4) + r_{c_6,x}*(-sin(q6)*sin(q2 + q3 + q4) + cos(q5)*cos(q6)*cos(q2 + q3 + q4)) + r_{c_6,y}*(-sin(q6)*cos(q5)*cos(q2 + q3 + q4) - sin(q2 + q3 + q4)*cos(q6)) - r_{c_6,z}*sin(q5)*cos(q2 + q3 + q4))],\n",
       "[                                                                                                                -g*m3*(a3*cos(q2 + q3) + r_{c_3,x}*cos(q2 + q3) - r_{c_3,y}*sin(q2 + q3)) - g*m4*(a3*cos(q2 + q3) + r_{c_4,x}*cos(q2 + q3 + q4) + r_{c_4,z}*sin(q2 + q3 + q4)) - g*m5*(a3*cos(q2 + q3) + d5*sin(q2 + q3 + q4) + r_{c_5,x}*cos(q5)*cos(q2 + q3 + q4) - r_{c_5,y}*sin(q2 + q3 + q4) - r_{c_5,z}*sin(q5)*cos(q2 + q3 + q4)) - g*m6*(a3*cos(q2 + q3) + d5*sin(q2 + q3 + q4) - d6*sin(q5)*cos(q2 + q3 + q4) + r_{c_6,x}*(-sin(q6)*sin(q2 + q3 + q4) + cos(q5)*cos(q6)*cos(q2 + q3 + q4)) + r_{c_6,y}*(-sin(q6)*cos(q5)*cos(q2 + q3 + q4) - sin(q2 + q3 + q4)*cos(q6)) - r_{c_6,z}*sin(q5)*cos(q2 + q3 + q4))],\n",
       "[                                                                                                                                                                                                                                                 -g*m4*(r_{c_4,x}*cos(q2 + q3 + q4) + r_{c_4,z}*sin(q2 + q3 + q4)) - g*m5*(d5*sin(q2 + q3 + q4) + r_{c_5,x}*cos(q5)*cos(q2 + q3 + q4) - r_{c_5,y}*sin(q2 + q3 + q4) - r_{c_5,z}*sin(q5)*cos(q2 + q3 + q4)) - g*m6*(d5*sin(q2 + q3 + q4) - d6*sin(q5)*cos(q2 + q3 + q4) + r_{c_6,x}*(-sin(q6)*sin(q2 + q3 + q4) + cos(q5)*cos(q6)*cos(q2 + q3 + q4)) + r_{c_6,y}*(-sin(q6)*cos(q5)*cos(q2 + q3 + q4) - sin(q2 + q3 + q4)*cos(q6)) - r_{c_6,z}*sin(q5)*cos(q2 + q3 + q4))],\n",
       "[                                                                                                                                                                                                                                                                                                                                                                                                                                                            -g*m5*(-r_{c_5,x}*sin(q5)*sin(q2 + q3 + q4) - r_{c_5,z}*sin(q2 + q3 + q4)*cos(q5)) - g*m6*(-d6*sin(q2 + q3 + q4)*cos(q5) - r_{c_6,x}*sin(q5)*sin(q2 + q3 + q4)*cos(q6) + r_{c_6,y}*sin(q5)*sin(q6)*sin(q2 + q3 + q4) - r_{c_6,z}*sin(q2 + q3 + q4)*cos(q5))],\n",
       "[                                                                                                                                                                                                                                                                                                                                                                                                                                                                                                                                                        -g*m6*(r_{c_6,x}*(-sin(q6)*sin(q2 + q3 + q4)*cos(q5) + cos(q6)*cos(q2 + q3 + q4)) + r_{c_6,y}*(-sin(q6)*cos(q2 + q3 + q4) - sin(q2 + q3 + q4)*cos(q5)*cos(q6)))]])"
      ]
     },
     "execution_count": 9,
     "metadata": {},
     "output_type": "execute_result"
    }
   ],
   "source": [
    "# do not include the first transform which is just an identity\n",
    "center_of_masses_wrt_base = compute_com_wrt_base(center_of_masses, ur3_transforms[1:])\n",
    "g_vec = sp.Matrix([0, 0, -g]) #positive z is up\n",
    "U_q = compute_potential_energy(g_vec, m_syms, center_of_masses_wrt_base)\n",
    "g_q = compute_gravity_torque_vector(U_q, q_syms)\n",
    "g_q"
   ]
  }
 ],
 "metadata": {
  "kernelspec": {
   "display_name": "en-530-630",
   "language": "python",
   "name": "python3"
  },
  "language_info": {
   "codemirror_mode": {
    "name": "ipython",
    "version": 3
   },
   "file_extension": ".py",
   "mimetype": "text/x-python",
   "name": "python",
   "nbconvert_exporter": "python",
   "pygments_lexer": "ipython3",
   "version": "3.13.2"
  }
 },
 "nbformat": 4,
 "nbformat_minor": 5
}
