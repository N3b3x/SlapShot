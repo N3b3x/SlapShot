{
 "cells": [
  {
   "cell_type": "code",
   "execution_count": null,
   "id": "3c0f198b",
   "metadata": {},
   "outputs": [],
   "source": [
    "import sympy as sp\n",
    "import numpy as np\n",
    "from sympy import latex\n",
    "\n",
    "import sys\n",
    "import os\n",
    "\n",
    "sys.path.append(os.path.abspath(os.path.join(os.getcwd(), '..')))\n",
    "from modules.ur3_symbols import *\n",
    "from modules.kinematics import get_forward_kinematics, get_transform"
   ]
  },
  {
   "cell_type": "code",
   "execution_count": null,
   "id": "400a39f8",
   "metadata": {},
   "outputs": [],
   "source": [
    "# this is the official dh table from universal robotics, not the one derived by Coppelia's frame assignments\n",
    "\n",
    "ur3_dh_table = [\n",
    "    {'theta':q_syms[0], 'a':0, 'd':d_syms[0], 'alpha':sp.pi/2},\n",
    "    {'theta':q_syms[1], 'a':a_syms[1], 'd':0, 'alpha':0},\n",
    "    {'theta':q_syms[2], 'a':a_syms[2], 'd':0, 'alpha':0},\n",
    "    {'theta':q_syms[3], 'a':0, 'd':d_syms[3], 'alpha':sp.pi/2},\n",
    "    {'theta':q_syms[4], 'a':0, 'd':d_syms[4], 'alpha':-sp.pi/2},\n",
    "    {'theta':q_syms[5], 'a':0, 'd':d_syms[5], 'alpha':0},\n",
    "]\n",
    "\n",
    "ur3_subs = {\n",
    "    d_syms[0]: 0.1519,\n",
    "    a_syms[1]: -0.24365,\n",
    "    a_syms[2]: -0.21325,\n",
    "    d_syms[3]: 0.11235,\n",
    "    d_syms[4]: 0.08535,\n",
    "    d_syms[5]: 0.0819\n",
    "}\n",
    "\n",
    "n = len(ur3_dh_table)"
   ]
  },
  {
   "cell_type": "code",
   "execution_count": null,
   "id": "a79acd1b",
   "metadata": {},
   "outputs": [],
   "source": [
    "ur3_transforms = get_forward_kinematics(ur3_dh_table)\n",
    "ur3_transforms = [sp.trigsimp(transform) for transform in ur3_transforms]"
   ]
  },
  {
   "cell_type": "code",
   "execution_count": null,
   "id": "c68b744c",
   "metadata": {},
   "outputs": [],
   "source": [
    "# Extract the necessary components for the jacobian\n",
    "origins = [ H[:3, -1] for H in ur3_transforms ]\n",
    "z_vectors = [ H[:3, 2] for H in ur3_transforms[1:]]\n",
    "center_of_masses = [r_c1, r_c2, r_c3, r_c4, r_c5, r_c6]"
   ]
  },
  {
   "cell_type": "code",
   "execution_count": null,
   "id": "2ffbd80c",
   "metadata": {},
   "outputs": [],
   "source": [
    "def build_symbolic_com_jacobians(origins, z_vectors, com_positions):\n",
    "    \"\"\"\n",
    "    Constructs the Jacobian matrices (linear + angular) for the centers of mass of each link.\n",
    "\n",
    "    Parameters:\n",
    "    - origins: list of sympy Matrix, position of each joint frame (length N+1)\n",
    "    - z_vectors: list of sympy Matrix, z-axis of each joint frame (length N)\n",
    "    - com_positions: list of sympy Matrix, center of mass positions for each link (length N)\n",
    "\n",
    "    Returns:\n",
    "    - jacobians: list of sympy Matrix, each 6xN Jacobian for a link's CoM\n",
    "    \"\"\"\n",
    "    num_joints = len(z_vectors)\n",
    "    jacobians = []\n",
    "\n",
    "    for link_idx in range(num_joints):\n",
    "        J = sp.zeros(3, num_joints)\n",
    "        o_c = com_positions[link_idx]\n",
    "        for j in range(link_idx + 1):\n",
    "            o_n = origins[j]\n",
    "            z_n = z_vectors[j]\n",
    "            J[:3, j] = sp.simplify(z_n.cross(o_c - o_n) ) # Linear velocity Jacobian\n",
    "            # J[3:, j] = z_n                   # Angular velocity Jacobian\n",
    "        jacobians.append(J)\n",
    "\n",
    "    return jacobians\n",
    "\n"
   ]
  },
  {
   "cell_type": "code",
   "execution_count": null,
   "id": "11f79f40",
   "metadata": {},
   "outputs": [],
   "source": [
    "jacobians = build_symbolic_com_jacobians(origins, z_vectors, center_of_masses)\n",
    "jacobians[0]"
   ]
  },
  {
   "cell_type": "code",
   "execution_count": null,
   "id": "a5665736",
   "metadata": {},
   "outputs": [],
   "source": [
    "def compute_inertia_matrices(jacobians, masses):\n",
    "    inertia_matrices = []\n",
    "\n",
    "    for J, m in zip(jacobians, masses):\n",
    "        D = m * J.T * J\n",
    "        # D = sp.simplify(D)\n",
    "        inertia_matrices.append(D)\n",
    "    \n",
    "    return inertia_matrices"
   ]
  },
  {
   "cell_type": "code",
   "execution_count": null,
   "id": "c00f6dc5",
   "metadata": {},
   "outputs": [],
   "source": [
    "inertia_matrices = compute_inertia_matrices(jacobians[4:], m_syms[4:])"
   ]
  },
  {
   "cell_type": "code",
   "execution_count": null,
   "id": "3a927d73",
   "metadata": {},
   "outputs": [],
   "source": [
    "# sum all of the inertia matrices for each link\n",
    "full_inertia_mat = sum(inertia_matrices, sp.zeros(*inertia_matrices[0].shape))"
   ]
  },
  {
   "cell_type": "code",
   "execution_count": null,
   "id": "5e7d9632",
   "metadata": {},
   "outputs": [],
   "source": [
    "def compute_coriolis_matrix(D, q_syms:list, dq_syms:list):\n",
    "    '''\n",
    "    Args:\n",
    "        D: Inertia Matrix\n",
    "        q_syms: list of symbolic joint variables\n",
    "        dq_syms: list of symbolic time derivative of joint variables\n",
    "    '''\n",
    "    coriolis = sp.Matrix.zeros(n)\n",
    "\n",
    "    for k in range(n):\n",
    "        for j in range(n):\n",
    "            c_kj = 0\n",
    "            for i in range(n):\n",
    "                c_ijk = (sp.diff(D[k, j], q_syms[j]) \n",
    "                         + sp.diff(D[k, i], q_syms[j])\n",
    "                         - sp.diff(D[i, j], q_syms[k]))/2\n",
    "                c_kj += c_ijk * dq_syms[i]\n",
    "            # c_kj = sp.simplify(c_kj)\n",
    "            # takes too long to simplify\n",
    "            coriolis[k, j] = c_kj\n",
    "    \n",
    "    return coriolis\n",
    "                           "
   ]
  },
  {
   "cell_type": "code",
   "execution_count": null,
   "id": "76f7acdc",
   "metadata": {},
   "outputs": [],
   "source": [
    "# do not try to print the full matrix\n",
    "coriolis = compute_coriolis_matrix(full_inertia_mat, q_syms, dq_syms)\n"
   ]
  }
 ],
 "metadata": {
  "kernelspec": {
   "display_name": "en-530-630",
   "language": "python",
   "name": "python3"
  },
  "language_info": {
   "codemirror_mode": {
    "name": "ipython",
    "version": 3
   },
   "file_extension": ".py",
   "mimetype": "text/x-python",
   "name": "python",
   "nbconvert_exporter": "python",
   "pygments_lexer": "ipython3",
   "version": "3.13.2"
  }
 },
 "nbformat": 4,
 "nbformat_minor": 5
}
